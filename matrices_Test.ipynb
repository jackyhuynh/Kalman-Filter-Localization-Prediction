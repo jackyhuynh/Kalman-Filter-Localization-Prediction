{
 "cells": [
  {
   "cell_type": "code",
   "execution_count": 7,
   "metadata": {},
   "outputs": [
    {
     "name": "stdout",
     "output_type": "stream",
     "text": [
      "The autoreload extension is already loaded. To reload it, use:\n",
      "  %reload_ext autoreload\n"
     ]
    }
   ],
   "source": [
    "# Run this cell to load the matrices\n",
    "%load_ext autoreload\n",
    "%autoreload 2\n",
    "from matrix import Matrix, zeroes, identity"
   ]
  },
  {
   "cell_type": "code",
   "execution_count": 5,
   "metadata": {},
   "outputs": [
    {
     "name": "stdout",
     "output_type": "stream",
     "text": [
      "[[-1, 0], [0, -1]] [[-1, 0], [0, -1]]\n",
      "[[0, 0], [0, 0]] [[0, 0], [0, 0]]\n",
      "[[13, -9], [37, -27]] [[13, -9], [37, -27]]\n",
      "[[-1, 4, 9], [-23, -31, -39], [8, 13, 18]] [[-1, 4, 9], [-23, -31, -39], [8, 13, 18]]\n",
      "[[0.125]] [[0.125]]\n",
      "[[1.5, -0.5], [2.0555555555555554, -0.7222222222222222]] [[1.5, -0.5], [2.0555556, -0.722222222]]\n",
      "[[1.0, 0.0], [0.0, 1.0]] [[1, 0], [0, 1]]\n",
      "[[1, 0], [1, 0]] [[1, 0], [1, 0]]\n",
      "[[1, 1], [0, 0]] [[1, 1], [0, 0]]\n",
      "[[0, 0], [0, 0]] [[0.0, 0.0], [0.0, 0.0]]\n",
      "Congratulations! All tests pass. Your Matrix class is working as expected.\n"
     ]
    }
   ],
   "source": [
    "# Run this code to test if the Matrices function is working\n",
    "\n",
    "import test"
   ]
  }
 ],
 "metadata": {
  "kernelspec": {
   "display_name": "Python 3",
   "language": "python",
   "name": "python3"
  },
  "language_info": {
   "codemirror_mode": {
    "name": "ipython",
    "version": 3
   },
   "file_extension": ".py",
   "mimetype": "text/x-python",
   "name": "python",
   "nbconvert_exporter": "python",
   "pygments_lexer": "ipython3",
   "version": "3.8.5"
  }
 },
 "nbformat": 4,
 "nbformat_minor": 2
}
